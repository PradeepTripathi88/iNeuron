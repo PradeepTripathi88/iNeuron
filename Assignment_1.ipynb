{
 "cells": [
  {
   "cell_type": "code",
   "execution_count": 1,
   "id": "cd4b033e",
   "metadata": {},
   "outputs": [
    {
     "data": {
      "text/plain": [
       "\"\\nQ-1. In the below elements which of them are values or an expression? eg:- values can be integer or string and expressions will be mathematical operators.\\n* ,'hello',-87.8,- ,/ ,+,6 \\n\\nAns-\\n    Integer:6\\n    Flot: -87.8\\n    String:hello\\n    Expression:*,-,/,+\\n\""
      ]
     },
     "execution_count": 1,
     "metadata": {},
     "output_type": "execute_result"
    }
   ],
   "source": [
    "\"\"\"\n",
    "1. In the below elements which of them are values or an expression? eg:- values can be integer or string and expressions will be mathematical operators.\n",
    "* ,'hello',-87.8,- ,/ ,+,6 \n",
    "\n",
    "Ans-\n",
    "    Integer:6\n",
    "    Flot: -87.8\n",
    "    String:hello\n",
    "    Expression:*,-,/,+\n",
    "\"\"\""
   ]
  },
  {
   "cell_type": "code",
   "execution_count": 2,
   "id": "fb2a18de",
   "metadata": {},
   "outputs": [
    {
     "data": {
      "text/plain": [
       "'\\n2. What is the difference between string and variable?\\n\\nAns- String is a data type to hold any text value where as variable is something which hold the value while program is running.\\n\\n'"
      ]
     },
     "execution_count": 2,
     "metadata": {},
     "output_type": "execute_result"
    }
   ],
   "source": [
    "\"\"\"\n",
    "2. What is the difference between string and variable?\n",
    "\n",
    "Ans- String is a data type to hold any text value where as variable is something which hold the value while program is running.\n",
    "\n",
    "\"\"\""
   ]
  },
  {
   "cell_type": "code",
   "execution_count": 3,
   "id": "bc4a3324",
   "metadata": {},
   "outputs": [
    {
     "data": {
      "text/plain": [
       "'\\n3. Describe three different data types.\\n\\nAns:\\n    String: when we assing any text value to variable.\\n    Integer: when we assinng any number with decimal point like 5869.\\n    flot: when we assign any decimal number like 1.5\\n'"
      ]
     },
     "execution_count": 3,
     "metadata": {},
     "output_type": "execute_result"
    }
   ],
   "source": [
    "\"\"\"\n",
    "3. Describe three different data types.\n",
    "\n",
    "Ans:\n",
    "    String: when we assing any text value to variable.\n",
    "    Integer: when we assinng any number with decimal point like 5869.\n",
    "    flot: when we assign any decimal number like 1.5\n",
    "\"\"\""
   ]
  },
  {
   "cell_type": "code",
   "execution_count": 4,
   "id": "6af838eb",
   "metadata": {},
   "outputs": [
    {
     "data": {
      "text/plain": [
       "'\\n4. What is an expression made up of? What do all expressions do?\\n\\nAns: An expression in python, is a special character or keyword, when used perform some special task and give different output.\\nlike- and, or, +,-,*,**,//,% etc.\\n'"
      ]
     },
     "execution_count": 4,
     "metadata": {},
     "output_type": "execute_result"
    }
   ],
   "source": [
    "\"\"\"\n",
    "4. What is an expression made up of? What do all expressions do?\n",
    "\n",
    "Ans: An expression in python, is a special character or keyword, when used perform some special task and give different output.\n",
    "like- and, or, +,-,*,**,//,% etc.\n",
    "\"\"\""
   ]
  },
  {
   "cell_type": "code",
   "execution_count": 5,
   "id": "ca811261",
   "metadata": {},
   "outputs": [
    {
     "data": {
      "text/plain": [
       "'\\n5. This assignment statements, like spam = 10. What is the difference between an expression and a statement?\\n\\nAns:statement is any line in python like mentioned above where as expression is only a special character or keyword which perform some different work.\\n    \\n'"
      ]
     },
     "execution_count": 5,
     "metadata": {},
     "output_type": "execute_result"
    }
   ],
   "source": [
    "\"\"\"\n",
    "5. This assignment statements, like spam = 10. What is the difference between an expression and a statement?\n",
    "\n",
    "Ans:statement is any line in python like mentioned above where as expression is only a special character or keyword which perform some different work.\n",
    "    \n",
    "\"\"\""
   ]
  },
  {
   "cell_type": "code",
   "execution_count": 6,
   "id": "89268424",
   "metadata": {},
   "outputs": [
    {
     "data": {
      "text/plain": [
       "\"\\n6. After running the following code, what does the variable bacon contain?\\nbacon = 22\\nbacon + 1\\n\\nAns: 22, since we are not assigning the value while adding 1, so it won't change the variable value\\n\\n\""
      ]
     },
     "execution_count": 6,
     "metadata": {},
     "output_type": "execute_result"
    }
   ],
   "source": [
    "\"\"\"\n",
    "6. After running the following code, what does the variable bacon contain?\n",
    "bacon = 22\n",
    "bacon + 1\n",
    "\n",
    "Ans: 22, since we are not assigning the value while adding 1, so it won't change the variable value\n",
    "\n",
    "\"\"\""
   ]
  },
  {
   "cell_type": "code",
   "execution_count": 7,
   "id": "c53273ed",
   "metadata": {},
   "outputs": [
    {
     "data": {
      "text/plain": [
       "\"\\n7. What should the values of the following two terms be?\\n'spam' + 'spamspam'\\n'spam' * 3\\n\\nAns: Same, in python, when we multiply string with any interger, same text get added that many times.\\n\""
      ]
     },
     "execution_count": 7,
     "metadata": {},
     "output_type": "execute_result"
    }
   ],
   "source": [
    "\"\"\"\n",
    "7. What should the values of the following two terms be?\n",
    "'spam' + 'spamspam'\n",
    "'spam' * 3\n",
    "\n",
    "Ans: Same, in python, when we multiply string with any interger, same text get added that many times.\n",
    "\"\"\""
   ]
  },
  {
   "cell_type": "code",
   "execution_count": 8,
   "id": "dcbd85db",
   "metadata": {},
   "outputs": [
    {
     "data": {
      "text/plain": [
       "\"\\n8. Why is eggs a valid variable name while 100 is invalid?\\n\\nAns: Variable name should always start with string only since 100 is integer, it's not a valid variable name.\\n\""
      ]
     },
     "execution_count": 8,
     "metadata": {},
     "output_type": "execute_result"
    }
   ],
   "source": [
    "\"\"\"\n",
    "8. Why is eggs a valid variable name while 100 is invalid?\n",
    "\n",
    "Ans: Variable name should always start with string only since 100 is integer, it's not a valid variable name.\n",
    "\"\"\""
   ]
  },
  {
   "cell_type": "code",
   "execution_count": 9,
   "id": "4c02eb04",
   "metadata": {},
   "outputs": [
    {
     "data": {
      "text/plain": [
       "'\\n9. What three functions can be used to get the integer, floating-point number, or string version of a value?\\n\\nAns: int() for integer, float() for floating point and str() for string\\n'"
      ]
     },
     "execution_count": 9,
     "metadata": {},
     "output_type": "execute_result"
    }
   ],
   "source": [
    "\"\"\"\n",
    "9. What three functions can be used to get the integer, floating-point number, or string version of a value?\n",
    "\n",
    "Ans: int() for integer, float() for floating point and str() for string\n",
    "\"\"\""
   ]
  },
  {
   "cell_type": "code",
   "execution_count": null,
   "id": "94468643",
   "metadata": {},
   "outputs": [],
   "source": [
    "\"\"\"\n",
    "10. Why does this expression cause an error? How can you fix it?\n",
    "'I have eaten ' + 99 + ' burritos.'\n",
    "\n",
    "Ans: we can not join string to number directly, so need to change 99 into string using str() funtion.\n",
    "\"\"\""
   ]
  }
 ],
 "metadata": {
  "kernelspec": {
   "display_name": "Python 3 (ipykernel)",
   "language": "python",
   "name": "python3"
  },
  "language_info": {
   "codemirror_mode": {
    "name": "ipython",
    "version": 3
   },
   "file_extension": ".py",
   "mimetype": "text/x-python",
   "name": "python",
   "nbconvert_exporter": "python",
   "pygments_lexer": "ipython3",
   "version": "3.9.7"
  }
 },
 "nbformat": 4,
 "nbformat_minor": 5
}
