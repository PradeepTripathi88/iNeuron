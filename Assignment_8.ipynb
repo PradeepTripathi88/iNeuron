{
 "cells": [
  {
   "cell_type": "code",
   "execution_count": 1,
   "id": "1a32a6db",
   "metadata": {},
   "outputs": [
    {
     "data": {
      "text/plain": [
       "'\\n1. Is the Python Standard Library included with PyInputPlus?\\n\\nAns: No\\n'"
      ]
     },
     "execution_count": 1,
     "metadata": {},
     "output_type": "execute_result"
    }
   ],
   "source": [
    "\"\"\"\n",
    "1. Is the Python Standard Library included with PyInputPlus?\n",
    "\n",
    "Ans: No\n",
    "\"\"\""
   ]
  },
  {
   "cell_type": "code",
   "execution_count": 2,
   "id": "b9df06b4",
   "metadata": {},
   "outputs": [
    {
     "data": {
      "text/plain": [
       "'\\n2. Why is PyInputPlus commonly imported with import pyinputplus as pypi?\\nAns: pypi is alias name to make easy and fast writting the prammer\\n'"
      ]
     },
     "execution_count": 2,
     "metadata": {},
     "output_type": "execute_result"
    }
   ],
   "source": [
    "\"\"\"\n",
    "2. Why is PyInputPlus commonly imported with import pyinputplus as pypi?\n",
    "Ans: pypi is alias name to make easy and fast writting the prammer\n",
    "\"\"\""
   ]
  },
  {
   "cell_type": "code",
   "execution_count": 3,
   "id": "0b831e47",
   "metadata": {},
   "outputs": [
    {
     "data": {
      "text/plain": [
       "'\\n3. How do you distinguish between inputInt() and inputFloat()?\\nAns: inputint() ask for interger value and keep on asking untill provide correct interger how ever inputfloat ask for float value.\\n'"
      ]
     },
     "execution_count": 3,
     "metadata": {},
     "output_type": "execute_result"
    }
   ],
   "source": [
    "\"\"\"\n",
    "3. How do you distinguish between inputInt() and inputFloat()?\n",
    "Ans: inputint() ask for interger value and keep on asking untill provide correct interger how ever inputfloat ask for float value.\n",
    "\"\"\""
   ]
  },
  {
   "cell_type": "code",
   "execution_count": 4,
   "id": "733fcad5",
   "metadata": {},
   "outputs": [
    {
     "data": {
      "text/plain": [
       "'\\n4. Using PyInputPlus, how do you ensure that the user enters a whole number between 0 and 99?\\nAns: using inputint(...limit=99)\\n'"
      ]
     },
     "execution_count": 4,
     "metadata": {},
     "output_type": "execute_result"
    }
   ],
   "source": [
    "\"\"\"\n",
    "4. Using PyInputPlus, how do you ensure that the user enters a whole number between 0 and 99?\n",
    "Ans: using inputint(...limit=99)\n",
    "\"\"\""
   ]
  },
  {
   "cell_type": "code",
   "execution_count": 5,
   "id": "17e10abf",
   "metadata": {},
   "outputs": [
    {
     "data": {
      "text/plain": [
       "'\\n5. What is transferred to the keyword arguments allowRegexes and blockRegexes?\\nAns: in inputstr() function we use blockregexes to block matching pattern and vice versa.\\n'"
      ]
     },
     "execution_count": 5,
     "metadata": {},
     "output_type": "execute_result"
    }
   ],
   "source": [
    "\"\"\"\n",
    "5. What is transferred to the keyword arguments allowRegexes and blockRegexes?\n",
    "Ans: in inputstr() function we use blockregexes to block matching pattern and vice versa.\n",
    "\"\"\""
   ]
  },
  {
   "cell_type": "code",
   "execution_count": 6,
   "id": "0ae18a16",
   "metadata": {},
   "outputs": [
    {
     "data": {
      "text/plain": [
       "'\\n6. If a blank input is entered three times, what does inputStr(limit=3) do?\\n\\nAns: it will ask the correct input upto 3 times.\\n'"
      ]
     },
     "execution_count": 6,
     "metadata": {},
     "output_type": "execute_result"
    }
   ],
   "source": [
    "\"\"\"\n",
    "6. If a blank input is entered three times, what does inputStr(limit=3) do?\n",
    "\n",
    "Ans: it will ask the correct input upto 3 times.\n",
    "\"\"\""
   ]
  },
  {
   "cell_type": "code",
   "execution_count": 7,
   "id": "43e29b65",
   "metadata": {},
   "outputs": [
    {
     "data": {
      "text/plain": [
       "'\\n7. If blank input is entered three times, what does inputStr(limit=3, default=\\'hello\\') do?\\n\\nAns: It will return the default value \"hello\".\\n'"
      ]
     },
     "execution_count": 7,
     "metadata": {},
     "output_type": "execute_result"
    }
   ],
   "source": [
    "\"\"\"\n",
    "7. If blank input is entered three times, what does inputStr(limit=3, default='hello') do?\n",
    "\n",
    "Ans: It will return the default value \"hello\".\n",
    "\"\"\""
   ]
  },
  {
   "cell_type": "code",
   "execution_count": null,
   "id": "08f8477a",
   "metadata": {},
   "outputs": [],
   "source": []
  }
 ],
 "metadata": {
  "kernelspec": {
   "display_name": "Python 3 (ipykernel)",
   "language": "python",
   "name": "python3"
  },
  "language_info": {
   "codemirror_mode": {
    "name": "ipython",
    "version": 3
   },
   "file_extension": ".py",
   "mimetype": "text/x-python",
   "name": "python",
   "nbconvert_exporter": "python",
   "pygments_lexer": "ipython3",
   "version": "3.9.7"
  }
 },
 "nbformat": 4,
 "nbformat_minor": 5
}
