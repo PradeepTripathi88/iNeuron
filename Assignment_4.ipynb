{
 "cells": [
  {
   "cell_type": "code",
   "execution_count": 1,
   "id": "a86da3c4",
   "metadata": {},
   "outputs": [
    {
     "data": {
      "text/plain": [
       "'\\n1. What exactly is []?\\n\\nAns:Square bracket is use to create list object in python. This is blank list symbol.\\n\\n'"
      ]
     },
     "execution_count": 1,
     "metadata": {},
     "output_type": "execute_result"
    }
   ],
   "source": [
    "\"\"\"\n",
    "1. What exactly is []?\n",
    "\n",
    "Ans:Square bracket is use to create list object in python. This is blank list symbol.\n",
    "\n",
    "\"\"\""
   ]
  },
  {
   "cell_type": "code",
   "execution_count": 3,
   "id": "ccd8a888",
   "metadata": {},
   "outputs": [
    {
     "name": "stdout",
     "output_type": "stream",
     "text": [
      "[2, 4, 'hello', 6, 8, 10]\n",
      "[2, 4, 'hello', 8, 10]\n"
     ]
    }
   ],
   "source": [
    "\"\"\"\n",
    "2. In a list of values stored in a variable called spam, how would you assign the value 'hello' as the third value? \n",
    "(Assume [2, 4, 6, 8, 10] are in spam.)\n",
    "\n",
    "Ans: \n",
    "\"\"\"\n",
    "spam =[2, 4, 6, 8, 10]\n",
    "spam.insert(2,\"hello\")\n",
    "print(spam)\n",
    "#or if we want to change 6 into 'hello'\n",
    "spam =[2, 4, 6, 8, 10]\n",
    "spam[2]=\"hello\"\n",
    "print(spam)\n"
   ]
  },
  {
   "cell_type": "code",
   "execution_count": 7,
   "id": "20e19bab",
   "metadata": {},
   "outputs": [
    {
     "data": {
      "text/plain": [
       "\"\\nLet's pretend the spam includes the list ['a', 'b', 'c', 'd'] for the next three queries.\\n3. What is the value of spam[int(int('3' * 2) / 11)]?\\n4. What is the value of spam[-1]?\\n5. What is the value of spam[:2]?\\n\\nAns: \\n3- d\\n4- d\\n5- a,b\\n\\n\""
      ]
     },
     "execution_count": 7,
     "metadata": {},
     "output_type": "execute_result"
    }
   ],
   "source": [
    "\"\"\"\n",
    "Let's pretend the spam includes the list ['a', 'b', 'c', 'd'] for the next three queries.\n",
    "3. What is the value of spam[int(int('3' * 2) / 11)]?\n",
    "4. What is the value of spam[-1]?\n",
    "5. What is the value of spam[:2]?\n",
    "\n",
    "Ans: \n",
    "3- d\n",
    "4- d\n",
    "5- a,b\n",
    "\n",
    "\"\"\""
   ]
  },
  {
   "cell_type": "code",
   "execution_count": 16,
   "id": "9a890249",
   "metadata": {},
   "outputs": [
    {
     "data": {
      "text/plain": [
       "\"\\nLet's pretend bacon has the list [3.14, 'cat,' 11, 'cat,' True] for the next three questions.\\n6. What is the value of bacon.index('cat')?\\n7. How does bacon.append(99) change the look of the list value in bacon?\\n8. How does bacon.remove('cat') change the look of the list in bacon?\\n\\nAns:there is typing error in the list value and if i igore that below would be the anser otherwise error.\\n6- 1\\n7- [3.14, 'cat', 11, 'cat', True,99]\\n8- [3.14, 11, 'cat' ,True]\\n\""
      ]
     },
     "execution_count": 16,
     "metadata": {},
     "output_type": "execute_result"
    }
   ],
   "source": [
    "\"\"\"\n",
    "Let's pretend bacon has the list [3.14, 'cat,' 11, 'cat,' True] for the next three questions.\n",
    "6. What is the value of bacon.index('cat')?\n",
    "7. How does bacon.append(99) change the look of the list value in bacon?\n",
    "8. How does bacon.remove('cat') change the look of the list in bacon?\n",
    "\n",
    "Ans:there is typing error in the list value and if i igore that below would be the anser otherwise error.\n",
    "6- 1\n",
    "7- [3.14, 'cat', 11, 'cat', True,99]\n",
    "8- [3.14, 11, 'cat' ,True]\n",
    "\"\"\"\n"
   ]
  },
  {
   "cell_type": "code",
   "execution_count": 17,
   "id": "5c7497be",
   "metadata": {},
   "outputs": [
    {
     "data": {
      "text/plain": [
       "'\\n9. What are the list concatenation and list replication operators?\\n\\nAns: list concatenation operators= \"+\"\\n    List replication operators = \"*\"\\n'"
      ]
     },
     "execution_count": 17,
     "metadata": {},
     "output_type": "execute_result"
    }
   ],
   "source": [
    "\"\"\"\n",
    "9. What are the list concatenation and list replication operators?\n",
    "\n",
    "Ans: list concatenation operators= \"+\"\n",
    "    List replication operators = \"*\"\n",
    "\"\"\""
   ]
  },
  {
   "cell_type": "code",
   "execution_count": 18,
   "id": "80170b92",
   "metadata": {},
   "outputs": [
    {
     "data": {
      "text/plain": [
       "'\\n10. What is difference between the list methods append() and insert()?\\n\\nAns: append always add data into list at last index whereas using insert method, we can add value at any index.\\n\\n'"
      ]
     },
     "execution_count": 18,
     "metadata": {},
     "output_type": "execute_result"
    }
   ],
   "source": [
    "\"\"\"\n",
    "10. What is difference between the list methods append() and insert()?\n",
    "\n",
    "Ans: append always add data into list at last index whereas using insert method, we can add value at any index.\n",
    "\n",
    "\"\"\""
   ]
  },
  {
   "cell_type": "code",
   "execution_count": 19,
   "id": "a8cd1005",
   "metadata": {},
   "outputs": [
    {
     "data": {
      "text/plain": [
       "'\\n11. What are the two methods for removing items from a list?\\n\\nAns: remove and pop\\n\\n'"
      ]
     },
     "execution_count": 19,
     "metadata": {},
     "output_type": "execute_result"
    }
   ],
   "source": [
    "\"\"\"\n",
    "11. What are the two methods for removing items from a list?\n",
    "\n",
    "Ans: remove and pop\n",
    "\n",
    "\"\"\""
   ]
  },
  {
   "cell_type": "code",
   "execution_count": 20,
   "id": "59b040b3",
   "metadata": {},
   "outputs": [
    {
     "data": {
      "text/plain": [
       "'\\n12. Describe how list values and string values are identical.\\n\\nAns: both are iterable object and \\n'"
      ]
     },
     "execution_count": 20,
     "metadata": {},
     "output_type": "execute_result"
    }
   ],
   "source": [
    "\"\"\"\n",
    "12. Describe how list values and string values are identical.\n",
    "\n",
    "Ans: both are iterable object and \n",
    "\"\"\""
   ]
  },
  {
   "cell_type": "code",
   "execution_count": 21,
   "id": "a1b8fb20",
   "metadata": {},
   "outputs": [
    {
     "data": {
      "text/plain": [
       "\"\\n13. What's the difference between tuples and lists?\\n\\nAns: Tuples is immutable object where as lists are mutable object\\n\""
      ]
     },
     "execution_count": 21,
     "metadata": {},
     "output_type": "execute_result"
    }
   ],
   "source": [
    "\"\"\"\n",
    "13. What's the difference between tuples and lists?\n",
    "\n",
    "Ans: Tuples is immutable object where as lists are mutable object\n",
    "\"\"\""
   ]
  },
  {
   "cell_type": "code",
   "execution_count": 28,
   "id": "92e78870",
   "metadata": {},
   "outputs": [
    {
     "data": {
      "text/plain": [
       "tuple"
      ]
     },
     "execution_count": 28,
     "metadata": {},
     "output_type": "execute_result"
    }
   ],
   "source": [
    "\"\"\"\n",
    "14. How do you type a tuple value that only contains the integer 42?\n",
    "\n",
    "Ans: by adding \",\" we can convert it into tuple.\n",
    "\"\"\"\n",
    "z=(32,)\n",
    "type(z)"
   ]
  },
  {
   "cell_type": "code",
   "execution_count": 29,
   "id": "2477ed3d",
   "metadata": {},
   "outputs": [
    {
     "data": {
      "text/plain": [
       "\"\\n15. How do you get a list value's tuple form? How do you get a tuple value's list form?\\n\\nAns: we can change tuple into list using list function and vise versa.\\n\\n\""
      ]
     },
     "execution_count": 29,
     "metadata": {},
     "output_type": "execute_result"
    }
   ],
   "source": [
    "\"\"\"\n",
    "15. How do you get a list value's tuple form? How do you get a tuple value's list form?\n",
    "\n",
    "Ans: we can change tuple into list using list function and vise versa.\n",
    "\n",
    "\"\"\""
   ]
  },
  {
   "cell_type": "code",
   "execution_count": 30,
   "id": "8d44a5a9",
   "metadata": {},
   "outputs": [
    {
     "data": {
      "text/plain": [
       "list"
      ]
     },
     "execution_count": 30,
     "metadata": {},
     "output_type": "execute_result"
    }
   ],
   "source": [
    "\"\"\"\n",
    "16. Variables that \"contain\" list values are not necessarily lists themselves. Instead, what do they contain?\n",
    "\n",
    "Ans: String\n",
    "\n",
    "\"\"\"\n",
    "l=['string']\n",
    "type(l)\n"
   ]
  },
  {
   "cell_type": "code",
   "execution_count": null,
   "id": "9831cfd5",
   "metadata": {},
   "outputs": [],
   "source": [
    "\"\"\"\n",
    "17. How do you distinguish between copy.copy() and copy.deepcopy()?\n",
    "\n",
    "Ans: No idea.\n",
    "\"\"\"\n"
   ]
  }
 ],
 "metadata": {
  "kernelspec": {
   "display_name": "Python 3 (ipykernel)",
   "language": "python",
   "name": "python3"
  },
  "language_info": {
   "codemirror_mode": {
    "name": "ipython",
    "version": 3
   },
   "file_extension": ".py",
   "mimetype": "text/x-python",
   "name": "python",
   "nbconvert_exporter": "python",
   "pygments_lexer": "ipython3",
   "version": "3.9.7"
  }
 },
 "nbformat": 4,
 "nbformat_minor": 5
}
