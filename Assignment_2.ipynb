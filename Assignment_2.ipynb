{
 "cells": [
  {
   "cell_type": "code",
   "execution_count": 10,
   "id": "49b597b5",
   "metadata": {},
   "outputs": [
    {
     "data": {
      "text/plain": [
       "'\\n1.What are the two values of the Boolean data type? How do you write them?\\n\\nAns- True and False or 1 and 0\\n'"
      ]
     },
     "execution_count": 10,
     "metadata": {},
     "output_type": "execute_result"
    }
   ],
   "source": [
    "\"\"\"\n",
    "1.What are the two values of the Boolean data type? How do you write them?\n",
    "\n",
    "Ans- True and False or 1 and 0\n",
    "\"\"\""
   ]
  },
  {
   "cell_type": "code",
   "execution_count": 11,
   "id": "0c46fe54",
   "metadata": {},
   "outputs": [
    {
     "data": {
      "text/plain": [
       "'\\n2. What are the three different types of Boolean operators?\\nAns- =, < and >\\n\\n'"
      ]
     },
     "execution_count": 11,
     "metadata": {},
     "output_type": "execute_result"
    }
   ],
   "source": [
    "\"\"\"\n",
    "2. What are the three different types of Boolean operators?\n",
    "Ans- =, < and >\n",
    "\n",
    "\"\"\""
   ]
  },
  {
   "cell_type": "code",
   "execution_count": 12,
   "id": "f59323e4",
   "metadata": {},
   "outputs": [
    {
     "data": {
      "text/plain": [
       "\"\\n3. Make a list of each Boolean operator's truth tables (i.e., every possible combination of Boolean values for the operator and what it evaluates).\\n\\nAns: Not clear to me.\\n\\n\""
      ]
     },
     "execution_count": 12,
     "metadata": {},
     "output_type": "execute_result"
    }
   ],
   "source": [
    "\"\"\"\n",
    "3. Make a list of each Boolean operator's truth tables (i.e., every possible combination of Boolean values for the operator and what it evaluates).\n",
    "\n",
    "Ans: Not clear to me.\n",
    "\n",
    "\"\"\""
   ]
  },
  {
   "cell_type": "code",
   "execution_count": 13,
   "id": "d0e02d68",
   "metadata": {},
   "outputs": [
    {
     "data": {
      "text/plain": [
       "'\\n4. What are the values of the following expressions?\\n\\n(5 > 4) and (3 == 5)\\nAns= False\\n\\nnot (5 > 4)\\nAns= False\\n\\n(5 > 4) or (3 == 5)\\nAns=True\\n\\nnot ((5 > 4) or (3 == 5))\\nAns=False\\n\\n(True and True) and (True == False)\\nAns=False\\n\\n(not False) or (not True)\\nAns= True\\n'"
      ]
     },
     "execution_count": 13,
     "metadata": {},
     "output_type": "execute_result"
    }
   ],
   "source": [
    "\"\"\"\n",
    "4. What are the values of the following expressions?\n",
    "\n",
    "(5 > 4) and (3 == 5)\n",
    "Ans= False\n",
    "\n",
    "not (5 > 4)\n",
    "Ans= False\n",
    "\n",
    "(5 > 4) or (3 == 5)\n",
    "Ans=True\n",
    "\n",
    "not ((5 > 4) or (3 == 5))\n",
    "Ans=False\n",
    "\n",
    "(True and True) and (True == False)\n",
    "Ans=False\n",
    "\n",
    "(not False) or (not True)\n",
    "Ans= True\n",
    "\"\"\""
   ]
  },
  {
   "cell_type": "code",
   "execution_count": 14,
   "id": "c1c03d51",
   "metadata": {},
   "outputs": [
    {
     "data": {
      "text/plain": [
       "'\\n5. What are the six comparison operators?\\nAns: >,>=,<,<=,=,<>\\n\\n'"
      ]
     },
     "execution_count": 14,
     "metadata": {},
     "output_type": "execute_result"
    }
   ],
   "source": [
    "\"\"\"\n",
    "5. What are the six comparison operators?\n",
    "Ans: >,>=,<,<=,=,<>\n",
    "\n",
    "\"\"\""
   ]
  },
  {
   "cell_type": "code",
   "execution_count": 15,
   "id": "086758f4",
   "metadata": {},
   "outputs": [
    {
     "data": {
      "text/plain": [
       "'\\n6. How do you tell the difference between the equal to and assignment operators?Describe a condition and when you would use one.\\nAns: equal to “=” is use to assign variable value where as to compare two value we use “==” operator.\\n\\n'"
      ]
     },
     "execution_count": 15,
     "metadata": {},
     "output_type": "execute_result"
    }
   ],
   "source": [
    "\"\"\"\n",
    "6. How do you tell the difference between the equal to and assignment operators?Describe a condition and when you would use one.\n",
    "Ans: equal to “=” is use to assign variable value where as to compare two value we use “==” operator.\n",
    "\n",
    "\"\"\""
   ]
  },
  {
   "cell_type": "code",
   "execution_count": 16,
   "id": "15b1dca6",
   "metadata": {},
   "outputs": [
    {
     "data": {
      "text/plain": [
       "\"\\n7. Identify the three blocks in this code:\\nspam = 0\\nif spam == 10:\\n.... Block-1....\\n    print('eggs')\\nif spam > 5:\\n.... Block-2....\\n    print('bacon')\\nelse:\\n.... Block-3....\\n    print('ham')\\n    print('spam')\\n    print('spam')\\n\\n\""
      ]
     },
     "execution_count": 16,
     "metadata": {},
     "output_type": "execute_result"
    }
   ],
   "source": [
    "\"\"\"\n",
    "7. Identify the three blocks in this code:\n",
    "spam = 0\n",
    "if spam == 10:\n",
    ".... Block-1....\n",
    "    print('eggs')\n",
    "if spam > 5:\n",
    ".... Block-2....\n",
    "    print('bacon')\n",
    "else:\n",
    ".... Block-3....\n",
    "    print('ham')\n",
    "    print('spam')\n",
    "    print('spam')\n",
    "\n",
    "\"\"\""
   ]
  },
  {
   "cell_type": "code",
   "execution_count": 22,
   "id": "fee061de",
   "metadata": {},
   "outputs": [
    {
     "name": "stdout",
     "output_type": "stream",
     "text": [
      "Please enter number only from 1 to 3:5\n",
      "Greeting\n"
     ]
    }
   ],
   "source": [
    "\"\"\"\n",
    "8. Write code that prints Hello if 1 is stored in spam, prints Howdy if 2 is stored in spam, and prints Greetings! if anything else is stored in spam.\n",
    "\"\"\"\n",
    "spam = int(input('Please enter number only from 1 to 3:' ))\n",
    "if spam==1:\n",
    "    print(\"Hello\")\n",
    "elif spam==2:\n",
    "    print(\"Howdy\")\n",
    "else:\n",
    "    print(\"Greeting\")\n",
    "    "
   ]
  },
  {
   "cell_type": "code",
   "execution_count": 23,
   "id": "ecf9dbc0",
   "metadata": {},
   "outputs": [
    {
     "data": {
      "text/plain": [
       "'\\n9.If your programme is stuck in an endless loop, what keys you’ll press?\\n\\nAns: ctrl+c\\n'"
      ]
     },
     "execution_count": 23,
     "metadata": {},
     "output_type": "execute_result"
    }
   ],
   "source": [
    "\"\"\"\n",
    "9.If your programme is stuck in an endless loop, what keys you’ll press?\n",
    "\n",
    "Ans: ctrl+c\n",
    "\"\"\""
   ]
  },
  {
   "cell_type": "code",
   "execution_count": 24,
   "id": "2d8a846e",
   "metadata": {},
   "outputs": [
    {
     "data": {
      "text/plain": [
       "'\\n10. How can you tell the difference between break and continue?\\n\\nAns: Break stop the loop execution while continue do not execute the code written after this and moved to next item in loop.\\n\\n'"
      ]
     },
     "execution_count": 24,
     "metadata": {},
     "output_type": "execute_result"
    }
   ],
   "source": [
    "\"\"\"\n",
    "10. How can you tell the difference between break and continue?\n",
    "\n",
    "Ans: Break stop the loop execution while continue do not execute the code written after this and moved to next item in loop.\n",
    "\n",
    "\"\"\""
   ]
  },
  {
   "cell_type": "code",
   "execution_count": 25,
   "id": "1702a3f4",
   "metadata": {},
   "outputs": [
    {
     "data": {
      "text/plain": [
       "'\\n11. In a for loop, what is the difference between range(10), range(0, 10), and range(0, 10, 1)?\\n\\nAns: all of them work same. when we write range(10) then by default create range from 0 to 10. to change the starting point we \\nuse range(strat pint,10) and be default the step for range function is 1, to change it we use range(1,10,step)\\n\\n'"
      ]
     },
     "execution_count": 25,
     "metadata": {},
     "output_type": "execute_result"
    }
   ],
   "source": [
    "\"\"\"\n",
    "11. In a for loop, what is the difference between range(10), range(0, 10), and range(0, 10, 1)?\n",
    "\n",
    "Ans: all of them work same. when we write range(10) then by default create range from 0 to 10. to change the starting point we \n",
    "use range(strat pint,10) and be default the step for range function is 1, to change it we use range(1,10,step)\n",
    "\n",
    "\"\"\""
   ]
  },
  {
   "cell_type": "code",
   "execution_count": 28,
   "id": "8a6fabaa",
   "metadata": {},
   "outputs": [
    {
     "name": "stdout",
     "output_type": "stream",
     "text": [
      "1\n",
      "2\n",
      "3\n",
      "4\n",
      "5\n",
      "6\n",
      "7\n",
      "8\n",
      "9\n",
      "10\n",
      "1\n",
      "2\n",
      "3\n",
      "4\n",
      "5\n",
      "6\n",
      "7\n",
      "8\n",
      "9\n"
     ]
    }
   ],
   "source": [
    "\"\"\"\n",
    "12. Write a short program that prints the numbers 1 to 10 using a for loop. Then write an equivalent program that prints the numbers 1 to 10 using a while loop.\n",
    "\n",
    "\n",
    "\"\"\"\n",
    "#wiht for loop\n",
    "for i in range(1,11):\n",
    "    print(i)\n",
    "\n",
    "#with while loop\n",
    "i=1\n",
    "while i<10:\n",
    "    print(i)\n",
    "    i=i+1"
   ]
  },
  {
   "cell_type": "code",
   "execution_count": null,
   "id": "d58aefd7",
   "metadata": {},
   "outputs": [],
   "source": [
    "\"\"\"\n",
    "13. If you had a function named bacon() inside a module named spam, how would you call it after importing spam?\n",
    "\n",
    "Ans: \n",
    "import spam as sp\n",
    "sp.bacon()\n",
    "\"\"\""
   ]
  }
 ],
 "metadata": {
  "kernelspec": {
   "display_name": "Python 3 (ipykernel)",
   "language": "python",
   "name": "python3"
  },
  "language_info": {
   "codemirror_mode": {
    "name": "ipython",
    "version": 3
   },
   "file_extension": ".py",
   "mimetype": "text/x-python",
   "name": "python",
   "nbconvert_exporter": "python",
   "pygments_lexer": "ipython3",
   "version": "3.9.7"
  }
 },
 "nbformat": 4,
 "nbformat_minor": 5
}
