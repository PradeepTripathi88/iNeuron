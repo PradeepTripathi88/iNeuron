{
 "cells": [
  {
   "cell_type": "code",
   "execution_count": 1,
   "id": "d364843e",
   "metadata": {},
   "outputs": [
    {
     "data": {
      "text/plain": [
       "'\\n1. Why are functions advantageous to have in your programs?\\n\\nAns: Function help us to reduce number of line in program and better readability.function is use to reuse number of line.\\n\\n'"
      ]
     },
     "execution_count": 1,
     "metadata": {},
     "output_type": "execute_result"
    }
   ],
   "source": [
    "\"\"\"\n",
    "1. Why are functions advantageous to have in your programs?\n",
    "\n",
    "Ans: Function help us to reduce number of line in program and better readability.function is use to reuse number of line.\n",
    "\n",
    "\"\"\""
   ]
  },
  {
   "cell_type": "code",
   "execution_count": 2,
   "id": "799c427b",
   "metadata": {},
   "outputs": [
    {
     "data": {
      "text/plain": [
       "\"\\n2. When does the code in a function run: when it's specified or when it's called?\\nAns: The code inside the function get executed when it's called outside of function.\\n\""
      ]
     },
     "execution_count": 2,
     "metadata": {},
     "output_type": "execute_result"
    }
   ],
   "source": [
    "\"\"\"\n",
    "2. When does the code in a function run: when it's specified or when it's called?\n",
    "Ans: The code inside the function get executed when it's called outside of function.\n",
    "\"\"\""
   ]
  },
  {
   "cell_type": "code",
   "execution_count": 3,
   "id": "b7f966a4",
   "metadata": {},
   "outputs": [
    {
     "data": {
      "text/plain": [
       "'\\n3. What statement creates a function?\\nAns- \"def\" keyword use to create function like def xyz():\\n\\n'"
      ]
     },
     "execution_count": 3,
     "metadata": {},
     "output_type": "execute_result"
    }
   ],
   "source": [
    "\"\"\"\n",
    "3. What statement creates a function?\n",
    "Ans- \"def\" keyword use to create function like def xyz():\n",
    "\n",
    "\"\"\""
   ]
  },
  {
   "cell_type": "code",
   "execution_count": 4,
   "id": "3443a8c0",
   "metadata": {},
   "outputs": [
    {
     "data": {
      "text/plain": [
       "'\\n4. What is the difference between a function and a function call?\\nAns: function is something which we define after \"def\" keyword and when we use that defination is called function call.\\n'"
      ]
     },
     "execution_count": 4,
     "metadata": {},
     "output_type": "execute_result"
    }
   ],
   "source": [
    "\"\"\"\n",
    "4. What is the difference between a function and a function call?\n",
    "Ans: function is something which we define after \"def\" keyword and when we use that defination is called function call.\n",
    "\"\"\""
   ]
  },
  {
   "cell_type": "code",
   "execution_count": 2,
   "id": "461b801c",
   "metadata": {},
   "outputs": [
    {
     "data": {
      "text/plain": [
       "'\\n5. How many global scopes are there in a Python program? How many local scopes?\\nAns: there is only one Global scopes for any variable whereas we can define same vairable as many time as we want in defferet function as a local variable.\\n\\n'"
      ]
     },
     "execution_count": 2,
     "metadata": {},
     "output_type": "execute_result"
    }
   ],
   "source": [
    "\"\"\"\n",
    "5. How many global scopes are there in a Python program? How many local scopes?\n",
    "Ans: there is only one Global scopes for any variable whereas we can define same vairable as many time as we want in defferet function as a local variable.\n",
    "\n",
    "\"\"\""
   ]
  },
  {
   "cell_type": "code",
   "execution_count": 3,
   "id": "f6aa69f8",
   "metadata": {},
   "outputs": [
    {
     "data": {
      "text/plain": [
       "'\\n6. What happens to variables in a local scope when the function call returns?\\nAns: after returns keyword, whatever values, we have assigned to local variable get lost.\\n'"
      ]
     },
     "execution_count": 3,
     "metadata": {},
     "output_type": "execute_result"
    }
   ],
   "source": [
    "\"\"\"\n",
    "6. What happens to variables in a local scope when the function call returns?\n",
    "Ans: after returns keyword, whatever values, we have assigned to local variable get lost.\n",
    "\"\"\""
   ]
  },
  {
   "cell_type": "code",
   "execution_count": 4,
   "id": "827c2e90",
   "metadata": {},
   "outputs": [
    {
     "data": {
      "text/plain": [
       "'\\n7. What is the concept of a return value? Is it possible to have a return value in an expression?\\nAns: Returns keyword in function always return value with correct datatype and we can not use return keyword anywhere apart from function.\\n'"
      ]
     },
     "execution_count": 4,
     "metadata": {},
     "output_type": "execute_result"
    }
   ],
   "source": [
    "\"\"\"\n",
    "7. What is the concept of a return value? Is it possible to have a return value in an expression?\n",
    "Ans: Returns keyword in function always return value with correct datatype and we can not use return keyword anywhere apart from function.\n",
    "\"\"\""
   ]
  },
  {
   "cell_type": "code",
   "execution_count": 5,
   "id": "67d0f1ed",
   "metadata": {},
   "outputs": [
    {
     "data": {
      "text/plain": [
       "\"\\n8. If a function does not have a return statement, what is the return value of a call to that function?\\nAns: if don't use return keyword then we can only see whatever written in print statment and if print also not written then nothing will appear as output.\\n\""
      ]
     },
     "execution_count": 5,
     "metadata": {},
     "output_type": "execute_result"
    }
   ],
   "source": [
    "\"\"\"\n",
    "8. If a function does not have a return statement, what is the return value of a call to that function?\n",
    "Ans: if don't use return keyword then we can only see whatever written in print statment and if print also not written then nothing will appear as output.\n",
    "\"\"\""
   ]
  },
  {
   "cell_type": "code",
   "execution_count": 6,
   "id": "a2f02a21",
   "metadata": {},
   "outputs": [
    {
     "data": {
      "text/plain": [
       "'\\n9. How do you make a function variable refer to the global variable?\\nAns: to make any function variable global, we use Global keyword before it like Global x = 10.\\n'"
      ]
     },
     "execution_count": 6,
     "metadata": {},
     "output_type": "execute_result"
    }
   ],
   "source": [
    "\"\"\"\n",
    "9. How do you make a function variable refer to the global variable?\n",
    "Ans: to make any function variable global, we use Global keyword before it like Global x = 10.\n",
    "\"\"\""
   ]
  },
  {
   "cell_type": "code",
   "execution_count": 7,
   "id": "8f6bd0ac",
   "metadata": {},
   "outputs": [
    {
     "data": {
      "text/plain": [
       "'\\n10. What is the data type of None?\\nAns: with None data type, we can not do any manipulation and print always return none data type.\\n'"
      ]
     },
     "execution_count": 7,
     "metadata": {},
     "output_type": "execute_result"
    }
   ],
   "source": [
    "\"\"\"\n",
    "10. What is the data type of None?\n",
    "Ans: with None data type, we can not do any manipulation and print always return none data type.\n",
    "\"\"\""
   ]
  },
  {
   "cell_type": "code",
   "execution_count": 9,
   "id": "601f4c65",
   "metadata": {},
   "outputs": [
    {
     "data": {
      "text/plain": [
       "'\\n11. What does the sentence import areallyourpetsnamederic do?\\nAns: import always give access to predefined library however in question, imported libraby is not availabe hence will show an error.\\n'"
      ]
     },
     "execution_count": 9,
     "metadata": {},
     "output_type": "execute_result"
    }
   ],
   "source": [
    "\"\"\"\n",
    "11. What does the sentence import areallyourpetsnamederic do?\n",
    "Ans: import always give access to predefined library however in question, imported libraby is not availabe hence will show an error.\n",
    "\"\"\""
   ]
  },
  {
   "cell_type": "code",
   "execution_count": 10,
   "id": "fb3ecdfe",
   "metadata": {},
   "outputs": [
    {
     "data": {
      "text/plain": [
       "'\\n12. If you had a bacon() feature in a spam module, what would you call it after importing spam?\\n\\nAns: import spam as s\\n    s.bacon()\\n'"
      ]
     },
     "execution_count": 10,
     "metadata": {},
     "output_type": "execute_result"
    }
   ],
   "source": [
    "\"\"\"\n",
    "12. If you had a bacon() feature in a spam module, what would you call it after importing spam?\n",
    "\n",
    "Ans: import spam as s\n",
    "    s.bacon()\n",
    "\"\"\""
   ]
  },
  {
   "cell_type": "code",
   "execution_count": 11,
   "id": "dd9c0f54",
   "metadata": {},
   "outputs": [
    {
     "data": {
      "text/plain": [
       "'\\n13. What can you do to save a programme from crashing if it encounters an error?\\n\\nAns: we will use proper error handling using try except and logging.\\n'"
      ]
     },
     "execution_count": 11,
     "metadata": {},
     "output_type": "execute_result"
    }
   ],
   "source": [
    "\"\"\"\n",
    "13. What can you do to save a programme from crashing if it encounters an error?\n",
    "\n",
    "Ans: we will use proper error handling using try except and logging.\n",
    "\"\"\""
   ]
  },
  {
   "cell_type": "code",
   "execution_count": 12,
   "id": "d8e37ef0",
   "metadata": {},
   "outputs": [
    {
     "data": {
      "text/plain": [
       "'\\n14. What is the purpose of the try clause? What is the purpose of the except clause?\\nAns: try clause always check any line of code and if any error found will route to except clause to handle it.\\n'"
      ]
     },
     "execution_count": 12,
     "metadata": {},
     "output_type": "execute_result"
    }
   ],
   "source": [
    "\"\"\"\n",
    "14. What is the purpose of the try clause? What is the purpose of the except clause?\n",
    "Ans: try clause always check any line of code and if any error found will route to except clause to handle it.\n",
    "\"\"\""
   ]
  },
  {
   "cell_type": "code",
   "execution_count": null,
   "id": "1c98afb6",
   "metadata": {},
   "outputs": [],
   "source": []
  }
 ],
 "metadata": {
  "kernelspec": {
   "display_name": "Python 3 (ipykernel)",
   "language": "python",
   "name": "python3"
  },
  "language_info": {
   "codemirror_mode": {
    "name": "ipython",
    "version": 3
   },
   "file_extension": ".py",
   "mimetype": "text/x-python",
   "name": "python",
   "nbconvert_exporter": "python",
   "pygments_lexer": "ipython3",
   "version": "3.9.7"
  }
 },
 "nbformat": 4,
 "nbformat_minor": 5
}
