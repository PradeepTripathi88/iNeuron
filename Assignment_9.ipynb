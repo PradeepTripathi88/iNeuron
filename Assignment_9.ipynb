{
 "cells": [
  {
   "cell_type": "code",
   "execution_count": 1,
   "id": "725ecb7a",
   "metadata": {},
   "outputs": [
    {
     "data": {
      "text/plain": [
       "'\\n1. To what does a relative path refer?\\n\\nAns: if we are refering file outside of current working directory, the changes in path is called relative path.\\n'"
      ]
     },
     "execution_count": 1,
     "metadata": {},
     "output_type": "execute_result"
    }
   ],
   "source": [
    "\"\"\"\n",
    "1. To what does a relative path refer?\n",
    "\n",
    "Ans: if we are refering file outside of current working directory, the changes in path is called relative path.\n",
    "\"\"\""
   ]
  },
  {
   "cell_type": "code",
   "execution_count": 2,
   "id": "fc44ea94",
   "metadata": {},
   "outputs": [
    {
     "data": {
      "text/plain": [
       "'\\n2. What does an absolute path start with your operating system?\\n\\nAns: Absolute path start with drive name.\\n'"
      ]
     },
     "execution_count": 2,
     "metadata": {},
     "output_type": "execute_result"
    }
   ],
   "source": [
    "\"\"\"\n",
    "2. What does an absolute path start with your operating system?\n",
    "\n",
    "Ans: Absolute path start with drive name.\n",
    "\"\"\""
   ]
  },
  {
   "cell_type": "code",
   "execution_count": 6,
   "id": "13eba4b8",
   "metadata": {},
   "outputs": [
    {
     "data": {
      "text/plain": [
       "'\\n3. What do the functions os.getcwd() and os.chdir() do?\\nAns: os.getcwd() give us current working directory and os.chdir change the current working directory to specified dir.\\n'"
      ]
     },
     "execution_count": 6,
     "metadata": {},
     "output_type": "execute_result"
    }
   ],
   "source": [
    "\"\"\"\n",
    "3. What do the functions os.getcwd() and os.chdir() do?\n",
    "Ans: os.getcwd() give us current working directory and os.chdir change the current working directory to specified dir.\n",
    "\"\"\""
   ]
  },
  {
   "cell_type": "code",
   "execution_count": 5,
   "id": "018dbfe4",
   "metadata": {},
   "outputs": [
    {
     "ename": "TypeError",
     "evalue": "chdir: path should be string, bytes or os.PathLike, not builtin_function_or_method",
     "output_type": "error",
     "traceback": [
      "\u001b[1;31m---------------------------------------------------------------------------\u001b[0m",
      "\u001b[1;31mTypeError\u001b[0m                                 Traceback (most recent call last)",
      "\u001b[1;32m~\\AppData\\Local\\Temp/ipykernel_6636/2823321665.py\u001b[0m in \u001b[0;36m<module>\u001b[1;34m\u001b[0m\n\u001b[1;32m----> 1\u001b[1;33m \u001b[0mos\u001b[0m\u001b[1;33m.\u001b[0m\u001b[0mchdir\u001b[0m\u001b[1;33m(\u001b[0m\u001b[0mos\u001b[0m\u001b[1;33m.\u001b[0m\u001b[0mgetcwd\u001b[0m\u001b[1;33m)\u001b[0m\u001b[1;33m\u001b[0m\u001b[1;33m\u001b[0m\u001b[0m\n\u001b[0m",
      "\u001b[1;31mTypeError\u001b[0m: chdir: path should be string, bytes or os.PathLike, not builtin_function_or_method"
     ]
    }
   ],
   "source": [
    "\"\"\"\n",
    "4. What are the . and .. folders?\n",
    "\n",
    "Ans \n",
    "\"\"\""
   ]
  },
  {
   "cell_type": "code",
   "execution_count": 7,
   "id": "bf19ba5a",
   "metadata": {},
   "outputs": [
    {
     "data": {
      "text/plain": [
       "'\\n5. In C:\\x08acon\\\\eggs\\\\spam.txt, which part is the dir name, and which part is the base name?\\n\\nAns:dir = \"C:\\x08acon\\\\eggs\"\\n    file = spam.txt\\n'"
      ]
     },
     "execution_count": 7,
     "metadata": {},
     "output_type": "execute_result"
    }
   ],
   "source": [
    "\"\"\"\n",
    "5. In C:\\bacon\\eggs\\spam.txt, which part is the dir name, and which part is the base name?\n",
    "\n",
    "Ans:dir = \"C:\\bacon\\eggs\\\"\n",
    "    file = spam.txt\n",
    "\"\"\""
   ]
  },
  {
   "cell_type": "code",
   "execution_count": 8,
   "id": "d8834ad6",
   "metadata": {},
   "outputs": [
    {
     "data": {
      "text/plain": [
       "'\\n6. What are the three “mode” arguments that can be passed to the open() function?\\n\\nAns: \"r\" as read, \"w\" as write and \"r+\" as read & write\\n'"
      ]
     },
     "execution_count": 8,
     "metadata": {},
     "output_type": "execute_result"
    }
   ],
   "source": [
    "\"\"\"\n",
    "6. What are the three “mode” arguments that can be passed to the open() function?\n",
    "\n",
    "Ans: \"r\" as read, \"w\" as write and \"r+\" as read & write\n",
    "\"\"\""
   ]
  },
  {
   "cell_type": "code",
   "execution_count": 9,
   "id": "9a8158fd",
   "metadata": {},
   "outputs": [
    {
     "data": {
      "text/plain": [
       "'\\n7. What happens if an existing file is opened in write mode?\\n\\nAns: It will read and write the both.\\n'"
      ]
     },
     "execution_count": 9,
     "metadata": {},
     "output_type": "execute_result"
    }
   ],
   "source": [
    "\"\"\"\n",
    "7. What happens if an existing file is opened in write mode?\n",
    "\n",
    "Ans: It will read and write the both.\n",
    "\"\"\""
   ]
  },
  {
   "cell_type": "code",
   "execution_count": 10,
   "id": "2986d9cd",
   "metadata": {},
   "outputs": [
    {
     "data": {
      "text/plain": [
       "'\\n8. How do you tell the difference between read() and readlines()?\\n\\nAns: read() function read all contents and readlines() function read line by line.\\n'"
      ]
     },
     "execution_count": 10,
     "metadata": {},
     "output_type": "execute_result"
    }
   ],
   "source": [
    "\"\"\"\n",
    "8. How do you tell the difference between read() and readlines()?\n",
    "\n",
    "Ans: read() function read all contents and readlines() function read line by line.\n",
    "\"\"\""
   ]
  },
  {
   "cell_type": "code",
   "execution_count": null,
   "id": "431dc6cc",
   "metadata": {},
   "outputs": [],
   "source": [
    "\"\"\"\n",
    "9. What data structure does a shelf value resemble?\n",
    "\n",
    "Ans: \n",
    "\"\"\""
   ]
  }
 ],
 "metadata": {
  "kernelspec": {
   "display_name": "Python 3 (ipykernel)",
   "language": "python",
   "name": "python3"
  },
  "language_info": {
   "codemirror_mode": {
    "name": "ipython",
    "version": 3
   },
   "file_extension": ".py",
   "mimetype": "text/x-python",
   "name": "python",
   "nbconvert_exporter": "python",
   "pygments_lexer": "ipython3",
   "version": "3.9.7"
  }
 },
 "nbformat": 4,
 "nbformat_minor": 5
}
