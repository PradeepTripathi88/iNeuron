{
 "cells": [
  {
   "cell_type": "code",
   "execution_count": 4,
   "id": "0e97cc78",
   "metadata": {},
   "outputs": [
    {
     "name": "stdout",
     "output_type": "stream",
     "text": [
      "12\n",
      "12\n"
     ]
    }
   ],
   "source": [
    "\"\"\"\n",
    "1. Create an assert statement that throws an AssertionError if the variable spam is a negative integer.\n",
    "\n",
    "\n",
    "\"\"\"\n",
    "spam = int(input())\n",
    "assert spam>0, 'Negative value'\n",
    "print(spam)\n"
   ]
  },
  {
   "cell_type": "code",
   "execution_count": 12,
   "id": "e69d9694",
   "metadata": {},
   "outputs": [
    {
     "name": "stdout",
     "output_type": "stream",
     "text": [
      "Eggs value: hello\n",
      "bacon value: HELLO\n"
     ]
    },
    {
     "ename": "AssertionError",
     "evalue": "Same value not allowed",
     "output_type": "error",
     "traceback": [
      "\u001b[1;31m---------------------------------------------------------------------------\u001b[0m",
      "\u001b[1;31mAssertionError\u001b[0m                            Traceback (most recent call last)",
      "\u001b[1;32m~\\AppData\\Local\\Temp/ipykernel_3472/4284059129.py\u001b[0m in \u001b[0;36m<module>\u001b[1;34m\u001b[0m\n\u001b[0;32m     10\u001b[0m \u001b[0meggs\u001b[0m \u001b[1;33m=\u001b[0m \u001b[0minput\u001b[0m\u001b[1;33m(\u001b[0m\u001b[1;34m\"Eggs value: \"\u001b[0m\u001b[1;33m)\u001b[0m\u001b[1;33m\u001b[0m\u001b[1;33m\u001b[0m\u001b[0m\n\u001b[0;32m     11\u001b[0m \u001b[0mbacon\u001b[0m \u001b[1;33m=\u001b[0m \u001b[0minput\u001b[0m\u001b[1;33m(\u001b[0m\u001b[1;34m\"bacon value: \"\u001b[0m\u001b[1;33m)\u001b[0m\u001b[1;33m\u001b[0m\u001b[1;33m\u001b[0m\u001b[0m\n\u001b[1;32m---> 12\u001b[1;33m \u001b[1;32massert\u001b[0m \u001b[0meggs\u001b[0m\u001b[1;33m.\u001b[0m\u001b[0mupper\u001b[0m\u001b[1;33m(\u001b[0m\u001b[1;33m)\u001b[0m \u001b[1;33m!=\u001b[0m \u001b[0mbacon\u001b[0m\u001b[1;33m.\u001b[0m\u001b[0mupper\u001b[0m\u001b[1;33m(\u001b[0m\u001b[1;33m)\u001b[0m\u001b[1;33m,\u001b[0m \u001b[1;34m\"Same value not allowed\"\u001b[0m\u001b[1;33m\u001b[0m\u001b[1;33m\u001b[0m\u001b[0m\n\u001b[0m\u001b[0;32m     13\u001b[0m \u001b[0mprint\u001b[0m\u001b[1;33m(\u001b[0m\u001b[1;34mf\"eggs = {eggs}, bacon = {bacon}\"\u001b[0m\u001b[1;33m)\u001b[0m\u001b[1;33m\u001b[0m\u001b[1;33m\u001b[0m\u001b[0m\n\u001b[0;32m     14\u001b[0m \u001b[1;33m\u001b[0m\u001b[0m\n",
      "\u001b[1;31mAssertionError\u001b[0m: Same value not allowed"
     ]
    }
   ],
   "source": [
    "\"\"\"\n",
    "2. Write an assert statement that triggers an AssertionError if the variables eggs and bacon contain strings that are the \n",
    "same as each other, even if their cases are different (that is, 'hello' and 'hello' are considered the same, and 'goodbye' \n",
    "and 'GOODbye' are also considered the same).\n",
    "\n",
    "Ans: \n",
    "\n",
    "\"\"\"\n",
    "\n",
    "eggs = input(\"Eggs value: \")\n",
    "bacon = input(\"bacon value: \")\n",
    "assert eggs.upper() != bacon.upper(), \"Same value not allowed\"\n",
    "print(f\"eggs = {eggs}, bacon = {bacon}\")\n",
    "    "
   ]
  },
  {
   "cell_type": "code",
   "execution_count": 15,
   "id": "36fcce92",
   "metadata": {},
   "outputs": [
    {
     "ename": "AssertionError",
     "evalue": "Always throw an error",
     "output_type": "error",
     "traceback": [
      "\u001b[1;31m---------------------------------------------------------------------------\u001b[0m",
      "\u001b[1;31mAssertionError\u001b[0m                            Traceback (most recent call last)",
      "\u001b[1;32m~\\AppData\\Local\\Temp/ipykernel_3472/320034485.py\u001b[0m in \u001b[0;36m<module>\u001b[1;34m\u001b[0m\n\u001b[0;32m      6\u001b[0m \u001b[0mx\u001b[0m\u001b[1;33m=\u001b[0m\u001b[1;36m1\u001b[0m\u001b[1;33m\u001b[0m\u001b[1;33m\u001b[0m\u001b[0m\n\u001b[0;32m      7\u001b[0m \u001b[0my\u001b[0m\u001b[1;33m=\u001b[0m\u001b[1;36m2\u001b[0m\u001b[1;33m\u001b[0m\u001b[1;33m\u001b[0m\u001b[0m\n\u001b[1;32m----> 8\u001b[1;33m \u001b[1;32massert\u001b[0m \u001b[0mx\u001b[0m\u001b[1;33m==\u001b[0m\u001b[0my\u001b[0m\u001b[1;33m,\u001b[0m \u001b[1;34m'Always throw an error'\u001b[0m\u001b[1;33m\u001b[0m\u001b[1;33m\u001b[0m\u001b[0m\n\u001b[0m\u001b[0;32m      9\u001b[0m \u001b[0mprint\u001b[0m\u001b[1;33m(\u001b[0m\u001b[1;34m\"something\"\u001b[0m\u001b[1;33m)\u001b[0m\u001b[1;33m\u001b[0m\u001b[1;33m\u001b[0m\u001b[0m\n",
      "\u001b[1;31mAssertionError\u001b[0m: Always throw an error"
     ]
    }
   ],
   "source": [
    "\"\"\"\n",
    "3. Create an assert statement that throws an AssertionError every time.\n",
    "Ans:\n",
    "\n",
    "\"\"\"\n",
    "x=1\n",
    "y=2\n",
    "assert x==y, 'Always throw an error'\n",
    "print(\"something\")"
   ]
  },
  {
   "cell_type": "code",
   "execution_count": 16,
   "id": "ab3dd407",
   "metadata": {},
   "outputs": [
    {
     "data": {
      "text/plain": [
       "'\\n4. What are the two lines that must be present in your software in order to call logging.debug()?\\n\\nAns: import logging\\n    logging.basicConfig(\"fileName\")\\n    \\n'"
      ]
     },
     "execution_count": 16,
     "metadata": {},
     "output_type": "execute_result"
    }
   ],
   "source": [
    "\"\"\"\n",
    "4. What are the two lines that must be present in your software in order to call logging.debug()?\n",
    "\n",
    "Ans: import logging\n",
    "    logging.basicConfig(filename=\"fileName\", level='logging.debug')\n",
    "    \n",
    "\"\"\""
   ]
  },
  {
   "cell_type": "code",
   "execution_count": 17,
   "id": "fdd35d4a",
   "metadata": {},
   "outputs": [
    {
     "data": {
      "text/plain": [
       "'\\n5. What are the two lines that your program must have in order to have logging.debug() send a logging message to a file \\nnamed programLog.txt?\\n\\nAns:\\n    import logging\\n    logging.basicConfig(filename=\"programLog.txt\", level=\\'logging.debug\\')\\n    \\n'"
      ]
     },
     "execution_count": 17,
     "metadata": {},
     "output_type": "execute_result"
    }
   ],
   "source": [
    "\"\"\"\n",
    "5. What are the two lines that your program must have in order to have logging.debug() send a logging message to a file \n",
    "named programLog.txt?\n",
    "\n",
    "Ans:\n",
    "    import logging\n",
    "    logging.basicConfig(filename=\"programLog.txt\", level='logging.debug')\n",
    "    \n",
    "\"\"\""
   ]
  },
  {
   "cell_type": "code",
   "execution_count": 18,
   "id": "599b8496",
   "metadata": {},
   "outputs": [
    {
     "data": {
      "text/plain": [
       "'\\n6. What are the five levels of logging?\\n\\nAns: logging, info, warning, error, critical\\n'"
      ]
     },
     "execution_count": 18,
     "metadata": {},
     "output_type": "execute_result"
    }
   ],
   "source": [
    "\"\"\"\n",
    "6. What are the five levels of logging?\n",
    "\n",
    "Ans: logging, info, warning, error, critical\n",
    "\"\"\"\n"
   ]
  },
  {
   "cell_type": "code",
   "execution_count": 19,
   "id": "3224e881",
   "metadata": {},
   "outputs": [
    {
     "data": {
      "text/plain": [
       "'\\n7. What line of code would you add to your software to disable all logging messages?\\n\\nAns: logging.disabled=True\\n'"
      ]
     },
     "execution_count": 19,
     "metadata": {},
     "output_type": "execute_result"
    }
   ],
   "source": [
    "\"\"\"\n",
    "7. What line of code would you add to your software to disable all logging messages?\n",
    "\n",
    "Ans: logging.disabled=True\n",
    "\"\"\""
   ]
  },
  {
   "cell_type": "code",
   "execution_count": 20,
   "id": "a09799b6",
   "metadata": {},
   "outputs": [
    {
     "data": {
      "text/plain": [
       "'\\n8.Why is using logging messages better than using print() to display the same message?\\n\\nAns: print only show something in console and get lost after the program however logging file always has record in it.\\n'"
      ]
     },
     "execution_count": 20,
     "metadata": {},
     "output_type": "execute_result"
    }
   ],
   "source": [
    "\"\"\"\n",
    "8.Why is using logging messages better than using print() to display the same message?\n",
    "\n",
    "Ans: print only show something in console and get lost after the program however logging file always has record in it.\n",
    "\"\"\""
   ]
  },
  {
   "cell_type": "code",
   "execution_count": 21,
   "id": "6d881b78",
   "metadata": {},
   "outputs": [
    {
     "data": {
      "text/plain": [
       "'\\n9. What are the differences between the Step Over, Step In, and Step Out buttons in the debugger?\\n\\nAns: Step Over= help us to execute few line of code like loop etc\\n    Step in = execute the program line by line\\n    Step out = execute the whole program\\n    \\n'"
      ]
     },
     "execution_count": 21,
     "metadata": {},
     "output_type": "execute_result"
    }
   ],
   "source": [
    "\"\"\"\n",
    "9. What are the differences between the Step Over, Step In, and Step Out buttons in the debugger?\n",
    "\n",
    "Ans: Step Over= help us to execute few line of code like loop etc\n",
    "    Step in = execute the program line by line\n",
    "    Step out = execute the whole program\n",
    "    \n",
    "\"\"\""
   ]
  },
  {
   "cell_type": "code",
   "execution_count": 22,
   "id": "f7418cb3",
   "metadata": {},
   "outputs": [
    {
     "data": {
      "text/plain": [
       "'\\n10.After you click Continue, when will the debugger stop ?\\n\\nAns: on next break point\\n\\n'"
      ]
     },
     "execution_count": 22,
     "metadata": {},
     "output_type": "execute_result"
    }
   ],
   "source": [
    "\"\"\"\n",
    "10.After you click Continue, when will the debugger stop ?\n",
    "\n",
    "Ans: on next break point\n",
    "\n",
    "\"\"\""
   ]
  },
  {
   "cell_type": "code",
   "execution_count": 23,
   "id": "74a5605b",
   "metadata": {},
   "outputs": [
    {
     "data": {
      "text/plain": [
       "'\\n11. What is the concept of a breakpoint?\\n\\nAns: breakpoint is the place where code stop everytime when we execute the program in debug mode\\n\\n'"
      ]
     },
     "execution_count": 23,
     "metadata": {},
     "output_type": "execute_result"
    }
   ],
   "source": [
    "\"\"\"\n",
    "11. What is the concept of a breakpoint?\n",
    "\n",
    "Ans: breakpoint is the place where code stop everytime when we execute the program in debug mode\n",
    "\n",
    "\"\"\""
   ]
  },
  {
   "cell_type": "code",
   "execution_count": null,
   "id": "93975c79",
   "metadata": {},
   "outputs": [],
   "source": []
  }
 ],
 "metadata": {
  "kernelspec": {
   "display_name": "Python 3 (ipykernel)",
   "language": "python",
   "name": "python3"
  },
  "language_info": {
   "codemirror_mode": {
    "name": "ipython",
    "version": 3
   },
   "file_extension": ".py",
   "mimetype": "text/x-python",
   "name": "python",
   "nbconvert_exporter": "python",
   "pygments_lexer": "ipython3",
   "version": "3.9.7"
  }
 },
 "nbformat": 4,
 "nbformat_minor": 5
}
